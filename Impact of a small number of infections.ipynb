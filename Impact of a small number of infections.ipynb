{
 "cells": [
  {
   "cell_type": "code",
   "execution_count": 2,
   "metadata": {},
   "outputs": [],
   "source": [
    "import numpy as np\n",
    "\n",
    "import matplotlib.pyplot as plt\n",
    "import seaborn as sns\n",
    "\n",
    "%matplotlib inline\n",
    "\n",
    "sns.set(font_scale=2)"
   ]
  },
  {
   "cell_type": "markdown",
   "metadata": {},
   "source": [
    "# What is the effect of infecting a small number of people during the early phase of an epidemic?\n",
    "\n",
    "\n",
    "If, during the early phase of an epidemic, a few extra people become infected, this will have a few effects:\n",
    " - those people will be sick\n",
    " - those people will go on to cause additional infections\n",
    " - those people and their secondary contacts will not be infected later on, and will not at this point go on to cause additional infections\n",
    " \n",
    "Infecting extra people early on will cause more infections overall as they have a larger pool of susceptible people to pass it on to.\n",
    "\n",
    "It is not obvious what it will do to hospital stress. I expect that early infections will tend to \"front load\" the epidemic, but I'm not certain about this.\n",
    "\n",
    "This simulation of a simple [SIR model](https://en.wikipedia.org/wiki/Compartmental_models_in_epidemiology#The_SIR_model) asks how an epidemic differs if:\n",
    " 1. The epidemic runs until there are $i_0$ infected people, $re_0$ recovered people and $s_0$ susceptible people\n",
    " 2. We then consider two different scenarios:\n",
    "     a. Nothing changes, the epidemic continues to run\n",
    "     b. We add $\\delta$ infected people and remove $\\delta$ people from the susceptible pool, then the epidemic continues\n",
    "\n",
    "We then compare these scenarios to see how they differ in terms of how many people are ultimately infected and how many people are infected over a country's hospital capacity (which we assume to be a constant fraction of the country's population)\n",
    "\n",
    "What we find is that infecting $\\delta$ people at any point while the number of infections is low compared to the total population has a very similar impact on the number of people infected total and on the stress the hospital system faces."
   ]
  },
  {
   "cell_type": "code",
   "execution_count": 23,
   "metadata": {},
   "outputs": [],
   "source": [
    "# Parameters\n",
    "\n",
    "R0 = 3.5 # effective reproduction number\n",
    "POP = 1e7 # total population of interest\n",
    "gamma = 1 # what rate do infected people recover? gamma=1 essentially means that 1 'time unit' in the simulation is equal to 1 'infectious period'"
   ]
  },
  {
   "cell_type": "code",
   "execution_count": 24,
   "metadata": {},
   "outputs": [],
   "source": [
    "def geom(i,alpha):\n",
    "    return i/(1-alpha) - i\n",
    "\n",
    "\n",
    "def ds(s,i,pop=POP,r0=R0,gamma=gamma):\n",
    "    return -s*i*r0*gamma/pop\n",
    "\n",
    "def di(s,i,pop=POP,r0=R0,gamma=gamma):\n",
    "    return -ds(s,i,pop,r0,gamma) - gamma*i\n",
    "\n",
    "\n",
    "def simulate(tmax,i0,s0,pop=POP,r0=R0,gamma=gamma,step_size=1e-5):\n",
    "    ins = [i0]\n",
    "    ss = [s0]\n",
    "    for t in range(int(tmax/step_size)):\n",
    "        ins.append(ins[-1] + step_size*di(ss[-1],ins[-1],pop,r0,gamma))\n",
    "        ss.append(ss[-1] + step_size*ds(ss[-1],ins[-2],pop,r0,gamma))\n",
    "    return np.vstack([ins, ss])\n",
    "\n",
    "\n",
    "def hospital_stress_delta(delta,i0,pop=POP,r0=R0,thresh=2.5e-3,severe=1e-1,step_size=1e-5):\n",
    "    re01 = geom(i0,1/r0)\n",
    "    s1 = simulate(50,i0,pop-i0-re01,pop,r0,step_size=step_size)\n",
    "    s2 = simulate(50,i0+delta,pop-i0-delta-re01,pop,r0,step_size=step_size)\n",
    "    inds1, inds2 = s1[0]*severe>=pop*thresh,s2[0]*severe>=pop*thresh\n",
    "    \n",
    "    return  (s2[0][inds2]-pop*thresh).sum()*step_size - (s1[0][inds1]-pop*thresh).sum()*step_size\n",
    "\n",
    "def infections_delta(delta,i0,pop=POP,r0=R0,thresh=2.5e-3,step_size=1e-5):\n",
    "    re01 = geom(i0,1/r0)\n",
    "    s1 = simulate(50,i0,pop-i0-re01,pop,r0,step_size=step_size)\n",
    "    s2 = simulate(50,i0+delta,pop-i0-delta-re01,pop,r0,step_size=step_size)\n",
    "    \n",
    "    return  min(s1[1]) - min(s2[1])"
   ]
  },
  {
   "cell_type": "code",
   "execution_count": null,
   "metadata": {},
   "outputs": [
    {
     "name": "stdout",
     "output_type": "stream",
     "text": [
      "Hospital stress 10 infections against 1e-06 background rate: 6.88\n",
      "            Additional infections same parameters: 0.39\n",
      "Hospital stress 10 infections against 1e-05 background rate: 4.63\n",
      "            Additional infections same parameters: 0.39\n",
      "Hospital stress 10 infections against 0.0001 background rate: 4.63\n",
      "            Additional infections same parameters: 0.39\n"
     ]
    }
   ],
   "source": [
    "rates = [1e-6,1e-5,1e-4,1e-3,1e-2,1e-1]\n",
    "\n",
    "# Probably not reliable when 10% of pop is infected\n",
    "\n",
    "for rate in rates:\n",
    "    print(f'Hospital stress 10 infections against {rate} background rate: {hospital_stress_delta(10,POP*rate):.2f}\\n\\\n",
    "            Additional infections same parameters: {infections_delta(10,POP*rate):.2f}')"
   ]
  },
  {
   "cell_type": "markdown",
   "metadata": {},
   "source": [
    "for 0.1 background rate, we're seeing the effect of people entering hospital when infections are already past stress threshold"
   ]
  },
  {
   "cell_type": "code",
   "execution_count": null,
   "metadata": {},
   "outputs": [],
   "source": []
  }
 ],
 "metadata": {
  "kernelspec": {
   "display_name": "Python 3",
   "language": "python",
   "name": "python3"
  },
  "language_info": {
   "codemirror_mode": {
    "name": "ipython",
    "version": 3
   },
   "file_extension": ".py",
   "mimetype": "text/x-python",
   "name": "python",
   "nbconvert_exporter": "python",
   "pygments_lexer": "ipython3",
   "version": "3.7.6"
  }
 },
 "nbformat": 4,
 "nbformat_minor": 4
}
