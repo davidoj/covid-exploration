{
 "cells": [
  {
   "cell_type": "code",
   "execution_count": 357,
   "metadata": {},
   "outputs": [],
   "source": [
    "import numpy as np\n",
    "\n",
    "import matplotlib.pyplot as plt\n",
    "import seaborn as sns\n",
    "\n",
    "%matplotlib inline\n",
    "\n",
    "sns.set(font_scale=2)"
   ]
  },
  {
   "cell_type": "code",
   "execution_count": 713,
   "metadata": {},
   "outputs": [],
   "source": [
    "# Parameters\n",
    "\n",
    "R0 = 3.3\n",
    "AR = 0.8\n",
    "C0 = 100\n",
    "POP = 1e7\n",
    "gamma = 1"
   ]
  },
  {
   "cell_type": "code",
   "execution_count": 714,
   "metadata": {},
   "outputs": [],
   "source": [
    "# SIR model https://en.wikipedia.org/wiki/Compartmental_models_in_epidemiology#The_SIR_model\n",
    "\n",
    "def ds(s,i,pop=POP,r0=R0,gamma=gamma):\n",
    "    return -s*i*r0*gamma/pop\n",
    "\n",
    "def di(s,i,pop=POP,r0=R0,gamma=gamma):\n",
    "    return -ds(s,i,pop,r0,gamma) - gamma*i\n",
    "\n",
    "def dr(i,gamma=gamma):\n",
    "    return gamma*i\n",
    "\n",
    "def simulate(tmax,i0,s0,pop=POP,r0=R0,gamma=gamma,step_size=1e-5):\n",
    "    ins = [i0]\n",
    "    ss = [s0]\n",
    "    for t in range(int(tmax/step_size)):\n",
    "        ins.append(ins[-1] + step_size*di(ss[-1],ins[-1],pop,r0,gamma))\n",
    "        ss.append(ss[-1] + step_size*ds(ss[-1],ins[-2],pop,r0,gamma))\n",
    "    return np.vstack([ins, ss])\n",
    "\n",
    "\n",
    "def hospital_stress_delta(delta,i0,pop=POP,r0=R0,thresh=2.5e-3,step_size=1e-5):\n",
    "    re0 = i0*(1-1/r0**5)*(1-1/r0) - i0\n",
    "    s1 = simulate(50,i0,pop-i0-re0,pop,r0,step_size=step_size)\n",
    "    s2 = simulate(50,i0+delta,pop-i0-delta-re0,pop,r0,step_size=step_size)\n",
    "    inds1, inds2 = s1[0]>=pop*thresh,s2[0]>=pop*thresh\n",
    "    \n",
    "    return  (s2[0][inds2]-pop*thresh).sum()*step_size - (s1[0][inds1]-pop*thresh).sum()*step_size\n",
    "\n",
    "def infections_delta(delta,i0,pop=POP,r0=R0,thresh=2.5e-3,step_size=1e-5):\n",
    "    re0 = i0*(1-1/r0**5)*(1-1/r0) - i0\n",
    "    s1 = simulate(50,i0,pop-i0-re0,pop,r0,step_size=step_size)\n",
    "    s2 = simulate(50,i0+delta,pop-i0-delta-re0,pop,r0,step_size=step_size)\n",
    "    \n",
    "    return  min(s1[1]) - min(s2[1])"
   ]
  },
  {
   "cell_type": "code",
   "execution_count": 715,
   "metadata": {},
   "outputs": [
    {
     "name": "stdout",
     "output_type": "stream",
     "text": [
      "Hospital stress 10 infections against 1e-06 background rate: 4.90\n",
      "            Additional infections same parameters: 0.49\n",
      "Hospital stress 10 infections against 1e-05 background rate: 4.90\n",
      "            Additional infections same parameters: 0.49\n",
      "Hospital stress 10 infections against 0.0001 background rate: 4.90\n",
      "            Additional infections same parameters: 0.49\n",
      "Hospital stress 10 infections against 0.001 background rate: 4.90\n",
      "            Additional infections same parameters: 0.49\n",
      "Hospital stress 10 infections against 0.01 background rate: 1.63\n",
      "            Additional infections same parameters: 0.49\n",
      "Hospital stress 10 infections against 0.1 background rate: 0.56\n",
      "            Additional infections same parameters: 0.42\n"
     ]
    }
   ],
   "source": [
    "rates = [1e-6,1e-5,1e-4,1e-3,1e-2,1e-1]\n",
    "\n",
    "# Probably not reliable when 10% of pop is infected\n",
    "\n",
    "for rate in rates:\n",
    "    print(f'Hospital stress 10 infections against {rate} background rate: {hospital_stress_delta(10,POP*rate):.2f}\\n\\\n",
    "            Additional infections same parameters: {infections_delta(10,POP*rate):.2f}')"
   ]
  },
  {
   "cell_type": "markdown",
   "metadata": {},
   "source": [
    "for 0.01 and 0.1 background rate, we're seeing the effect of people entering hospital when infections are already past stress threshold"
   ]
  },
  {
   "cell_type": "code",
   "execution_count": null,
   "metadata": {},
   "outputs": [],
   "source": []
  }
 ],
 "metadata": {
  "kernelspec": {
   "display_name": "Python 3",
   "language": "python",
   "name": "python3"
  },
  "language_info": {
   "codemirror_mode": {
    "name": "ipython",
    "version": 3
   },
   "file_extension": ".py",
   "mimetype": "text/x-python",
   "name": "python",
   "nbconvert_exporter": "python",
   "pygments_lexer": "ipython3",
   "version": "3.7.6"
  }
 },
 "nbformat": 4,
 "nbformat_minor": 4
}
